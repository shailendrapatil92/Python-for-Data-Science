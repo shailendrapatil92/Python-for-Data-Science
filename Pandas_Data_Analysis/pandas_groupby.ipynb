{
 "cells": [
  {
   "cell_type": "markdown",
   "metadata": {},
   "source": [
    "\n",
    "# Pandas GroupBy"
   ]
  },
  {
   "cell_type": "code",
   "execution_count": 1,
   "metadata": {},
   "outputs": [],
   "source": [
    "import pandas as pd"
   ]
  },
  {
   "cell_type": "code",
   "execution_count": 2,
   "metadata": {},
   "outputs": [
    {
     "data": {
      "text/html": [
       "<div>\n",
       "<style scoped>\n",
       "    .dataframe tbody tr th:only-of-type {\n",
       "        vertical-align: middle;\n",
       "    }\n",
       "\n",
       "    .dataframe tbody tr th {\n",
       "        vertical-align: top;\n",
       "    }\n",
       "\n",
       "    .dataframe thead th {\n",
       "        text-align: right;\n",
       "    }\n",
       "</style>\n",
       "<table border=\"1\" class=\"dataframe\">\n",
       "  <thead>\n",
       "    <tr style=\"text-align: right;\">\n",
       "      <th></th>\n",
       "      <th>sepal_length</th>\n",
       "      <th>sepal_width</th>\n",
       "      <th>petal_length</th>\n",
       "      <th>petal_width</th>\n",
       "      <th>species</th>\n",
       "    </tr>\n",
       "  </thead>\n",
       "  <tbody>\n",
       "    <tr>\n",
       "      <th>0</th>\n",
       "      <td>5.1</td>\n",
       "      <td>3.5</td>\n",
       "      <td>1.4</td>\n",
       "      <td>0.2</td>\n",
       "      <td>setosa</td>\n",
       "    </tr>\n",
       "    <tr>\n",
       "      <th>1</th>\n",
       "      <td>4.9</td>\n",
       "      <td>3.0</td>\n",
       "      <td>1.4</td>\n",
       "      <td>0.2</td>\n",
       "      <td>setosa</td>\n",
       "    </tr>\n",
       "    <tr>\n",
       "      <th>2</th>\n",
       "      <td>4.7</td>\n",
       "      <td>3.2</td>\n",
       "      <td>1.3</td>\n",
       "      <td>0.2</td>\n",
       "      <td>setosa</td>\n",
       "    </tr>\n",
       "    <tr>\n",
       "      <th>3</th>\n",
       "      <td>4.6</td>\n",
       "      <td>3.1</td>\n",
       "      <td>1.5</td>\n",
       "      <td>0.2</td>\n",
       "      <td>setosa</td>\n",
       "    </tr>\n",
       "    <tr>\n",
       "      <th>4</th>\n",
       "      <td>5.0</td>\n",
       "      <td>3.6</td>\n",
       "      <td>1.4</td>\n",
       "      <td>0.2</td>\n",
       "      <td>setosa</td>\n",
       "    </tr>\n",
       "  </tbody>\n",
       "</table>\n",
       "</div>"
      ],
      "text/plain": [
       "   sepal_length  sepal_width  petal_length  petal_width species\n",
       "0           5.1          3.5           1.4          0.2  setosa\n",
       "1           4.9          3.0           1.4          0.2  setosa\n",
       "2           4.7          3.2           1.3          0.2  setosa\n",
       "3           4.6          3.1           1.5          0.2  setosa\n",
       "4           5.0          3.6           1.4          0.2  setosa"
      ]
     },
     "execution_count": 2,
     "metadata": {},
     "output_type": "execute_result"
    }
   ],
   "source": [
    "data = pd.read_csv('iris.csv')\n",
    "data.head()"
   ]
  },
  {
   "cell_type": "code",
   "execution_count": 3,
   "metadata": {},
   "outputs": [
    {
     "data": {
      "text/plain": [
       "species\n",
       "setosa        5.006\n",
       "versicolor    5.936\n",
       "virginica     6.588\n",
       "Name: sepal_length, dtype: float64"
      ]
     },
     "execution_count": 3,
     "metadata": {},
     "output_type": "execute_result"
    }
   ],
   "source": [
    "#Get Mean sepal_length across different species\n",
    "data.groupby('species').sepal_length.mean()"
   ]
  },
  {
   "cell_type": "code",
   "execution_count": 4,
   "metadata": {},
   "outputs": [
    {
     "data": {
      "text/html": [
       "<div>\n",
       "<style scoped>\n",
       "    .dataframe tbody tr th:only-of-type {\n",
       "        vertical-align: middle;\n",
       "    }\n",
       "\n",
       "    .dataframe tbody tr th {\n",
       "        vertical-align: top;\n",
       "    }\n",
       "\n",
       "    .dataframe thead th {\n",
       "        text-align: right;\n",
       "    }\n",
       "</style>\n",
       "<table border=\"1\" class=\"dataframe\">\n",
       "  <thead>\n",
       "    <tr style=\"text-align: right;\">\n",
       "      <th></th>\n",
       "      <th>max</th>\n",
       "      <th>min</th>\n",
       "      <th>mean</th>\n",
       "      <th>count</th>\n",
       "    </tr>\n",
       "    <tr>\n",
       "      <th>species</th>\n",
       "      <th></th>\n",
       "      <th></th>\n",
       "      <th></th>\n",
       "      <th></th>\n",
       "    </tr>\n",
       "  </thead>\n",
       "  <tbody>\n",
       "    <tr>\n",
       "      <th>setosa</th>\n",
       "      <td>5.8</td>\n",
       "      <td>4.3</td>\n",
       "      <td>5.006</td>\n",
       "      <td>50</td>\n",
       "    </tr>\n",
       "    <tr>\n",
       "      <th>versicolor</th>\n",
       "      <td>7.0</td>\n",
       "      <td>4.9</td>\n",
       "      <td>5.936</td>\n",
       "      <td>50</td>\n",
       "    </tr>\n",
       "    <tr>\n",
       "      <th>virginica</th>\n",
       "      <td>7.9</td>\n",
       "      <td>4.9</td>\n",
       "      <td>6.588</td>\n",
       "      <td>50</td>\n",
       "    </tr>\n",
       "  </tbody>\n",
       "</table>\n",
       "</div>"
      ],
      "text/plain": [
       "            max  min   mean  count\n",
       "species                           \n",
       "setosa      5.8  4.3  5.006     50\n",
       "versicolor  7.0  4.9  5.936     50\n",
       "virginica   7.9  4.9  6.588     50"
      ]
     },
     "execution_count": 4,
     "metadata": {},
     "output_type": "execute_result"
    }
   ],
   "source": [
    "data.groupby('species').sepal_length.agg(['max','min','mean','count'])"
   ]
  },
  {
   "cell_type": "code",
   "execution_count": 6,
   "metadata": {},
   "outputs": [
    {
     "data": {
      "text/html": [
       "<div>\n",
       "<style scoped>\n",
       "    .dataframe tbody tr th:only-of-type {\n",
       "        vertical-align: middle;\n",
       "    }\n",
       "\n",
       "    .dataframe tbody tr th {\n",
       "        vertical-align: top;\n",
       "    }\n",
       "\n",
       "    .dataframe thead th {\n",
       "        text-align: right;\n",
       "    }\n",
       "</style>\n",
       "<table border=\"1\" class=\"dataframe\">\n",
       "  <thead>\n",
       "    <tr style=\"text-align: right;\">\n",
       "      <th></th>\n",
       "      <th>series_id</th>\n",
       "      <th>year</th>\n",
       "      <th>period</th>\n",
       "      <th>value</th>\n",
       "      <th>footnote_codes</th>\n",
       "      <th>date</th>\n",
       "      <th>series_title</th>\n",
       "    </tr>\n",
       "  </thead>\n",
       "  <tbody>\n",
       "    <tr>\n",
       "      <th>0</th>\n",
       "      <td>LNU04049604</td>\n",
       "      <td>2008</td>\n",
       "      <td>M13</td>\n",
       "      <td>7.3</td>\n",
       "      <td>NaN</td>\n",
       "      <td>2008-12-31</td>\n",
       "      <td>(Unadj) Unemployment Rate - Nonveterans, 18 ye...</td>\n",
       "    </tr>\n",
       "    <tr>\n",
       "      <th>1</th>\n",
       "      <td>LNU04049604</td>\n",
       "      <td>2010</td>\n",
       "      <td>M13</td>\n",
       "      <td>12.3</td>\n",
       "      <td>NaN</td>\n",
       "      <td>2010-12-31</td>\n",
       "      <td>(Unadj) Unemployment Rate - Nonveterans, 18 ye...</td>\n",
       "    </tr>\n",
       "    <tr>\n",
       "      <th>2</th>\n",
       "      <td>LNU04049604</td>\n",
       "      <td>2011</td>\n",
       "      <td>M13</td>\n",
       "      <td>11.2</td>\n",
       "      <td>NaN</td>\n",
       "      <td>2011-12-31</td>\n",
       "      <td>(Unadj) Unemployment Rate - Nonveterans, 18 ye...</td>\n",
       "    </tr>\n",
       "    <tr>\n",
       "      <th>3</th>\n",
       "      <td>LNU04049604</td>\n",
       "      <td>2012</td>\n",
       "      <td>M13</td>\n",
       "      <td>10.0</td>\n",
       "      <td>NaN</td>\n",
       "      <td>2012-12-31</td>\n",
       "      <td>(Unadj) Unemployment Rate - Nonveterans, 18 ye...</td>\n",
       "    </tr>\n",
       "    <tr>\n",
       "      <th>4</th>\n",
       "      <td>LNU04049604</td>\n",
       "      <td>2013</td>\n",
       "      <td>M13</td>\n",
       "      <td>8.8</td>\n",
       "      <td>NaN</td>\n",
       "      <td>2013-12-31</td>\n",
       "      <td>(Unadj) Unemployment Rate - Nonveterans, 18 ye...</td>\n",
       "    </tr>\n",
       "  </tbody>\n",
       "</table>\n",
       "</div>"
      ],
      "text/plain": [
       "     series_id  year period  value  footnote_codes        date  \\\n",
       "0  LNU04049604  2008    M13    7.3             NaN  2008-12-31   \n",
       "1  LNU04049604  2010    M13   12.3             NaN  2010-12-31   \n",
       "2  LNU04049604  2011    M13   11.2             NaN  2011-12-31   \n",
       "3  LNU04049604  2012    M13   10.0             NaN  2012-12-31   \n",
       "4  LNU04049604  2013    M13    8.8             NaN  2013-12-31   \n",
       "\n",
       "                                        series_title  \n",
       "0  (Unadj) Unemployment Rate - Nonveterans, 18 ye...  \n",
       "1  (Unadj) Unemployment Rate - Nonveterans, 18 ye...  \n",
       "2  (Unadj) Unemployment Rate - Nonveterans, 18 ye...  \n",
       "3  (Unadj) Unemployment Rate - Nonveterans, 18 ye...  \n",
       "4  (Unadj) Unemployment Rate - Nonveterans, 18 ye...  "
      ]
     },
     "execution_count": 6,
     "metadata": {},
     "output_type": "execute_result"
    }
   ],
   "source": [
    "data = pd.read_csv('https://raw.githubusercontent.com/shailendrapatil92/Data-Visualization/master/annually_races_over_18.csv')\n",
    "data.head()"
   ]
  },
  {
   "cell_type": "code",
   "execution_count": 7,
   "metadata": {},
   "outputs": [
    {
     "data": {
      "text/plain": [
       "year  series_title                                                                         \n",
       "2006  (Unadj) Unemployment Rate - Nonveterans, 18 years and over, Asian                         2.9\n",
       "      (Unadj) Unemployment Rate - Nonveterans, 18 years and over, Black or African American     8.7\n",
       "      (Unadj) Unemployment Rate - Nonveterans, 18 years and over, Hispanic or Latino            5.0\n",
       "      (Unadj) Unemployment Rate - Nonveterans, 18 years and over, White                         3.9\n",
       "2007  (Unadj) Unemployment Rate - Nonveterans, 18 years and over, Asian                         3.1\n",
       "      (Unadj) Unemployment Rate - Nonveterans, 18 years and over, Black or African American     8.0\n",
       "      (Unadj) Unemployment Rate - Nonveterans, 18 years and over, Hispanic or Latino            5.4\n",
       "      (Unadj) Unemployment Rate - Nonveterans, 18 years and over, White                         3.9\n",
       "2008  (Unadj) Unemployment Rate - Nonveterans, 18 years and over, Asian                         3.9\n",
       "      (Unadj) Unemployment Rate - Nonveterans, 18 years and over, Black or African American     9.9\n",
       "      (Unadj) Unemployment Rate - Nonveterans, 18 years and over, Hispanic or Latino            7.3\n",
       "      (Unadj) Unemployment Rate - Nonveterans, 18 years and over, White                         5.0\n",
       "2009  (Unadj) Unemployment Rate - Nonveterans, 18 years and over, Asian                         7.2\n",
       "      (Unadj) Unemployment Rate - Nonveterans, 18 years and over, Black or African American    14.7\n",
       "      (Unadj) Unemployment Rate - Nonveterans, 18 years and over, Hispanic or Latino           11.9\n",
       "      (Unadj) Unemployment Rate - Nonveterans, 18 years and over, White                         8.3\n",
       "2010  (Unadj) Unemployment Rate - Nonveterans, 18 years and over, Asian                         7.4\n",
       "      (Unadj) Unemployment Rate - Nonveterans, 18 years and over, Black or African American    15.8\n",
       "      (Unadj) Unemployment Rate - Nonveterans, 18 years and over, Hispanic or Latino           12.3\n",
       "      (Unadj) Unemployment Rate - Nonveterans, 18 years and over, White                         8.5\n",
       "2011  (Unadj) Unemployment Rate - Nonveterans, 18 years and over, Asian                         7.0\n",
       "      (Unadj) Unemployment Rate - Nonveterans, 18 years and over, Black or African American    15.8\n",
       "      (Unadj) Unemployment Rate - Nonveterans, 18 years and over, Hispanic or Latino           11.2\n",
       "      (Unadj) Unemployment Rate - Nonveterans, 18 years and over, White                         7.7\n",
       "2012  (Unadj) Unemployment Rate - Nonveterans, 18 years and over, Asian                         5.8\n",
       "      (Unadj) Unemployment Rate - Nonveterans, 18 years and over, Black or African American    13.7\n",
       "      (Unadj) Unemployment Rate - Nonveterans, 18 years and over, Hispanic or Latino           10.0\n",
       "      (Unadj) Unemployment Rate - Nonveterans, 18 years and over, White                         7.0\n",
       "2013  (Unadj) Unemployment Rate - Nonveterans, 18 years and over, Asian                         5.1\n",
       "      (Unadj) Unemployment Rate - Nonveterans, 18 years and over, Black or African American    13.0\n",
       "      (Unadj) Unemployment Rate - Nonveterans, 18 years and over, Hispanic or Latino            8.8\n",
       "      (Unadj) Unemployment Rate - Nonveterans, 18 years and over, White                         6.3\n",
       "2014  (Unadj) Unemployment Rate - Nonveterans, 18 years and over, Asian                         4.9\n",
       "      (Unadj) Unemployment Rate - Nonveterans, 18 years and over, Black or African American    11.3\n",
       "      (Unadj) Unemployment Rate - Nonveterans, 18 years and over, Hispanic or Latino            7.2\n",
       "      (Unadj) Unemployment Rate - Nonveterans, 18 years and over, White                         5.1\n",
       "2015  (Unadj) Unemployment Rate - Nonveterans, 18 years and over, Asian                         3.8\n",
       "      (Unadj) Unemployment Rate - Nonveterans, 18 years and over, Black or African American     9.4\n",
       "      (Unadj) Unemployment Rate - Nonveterans, 18 years and over, Hispanic or Latino            6.4\n",
       "      (Unadj) Unemployment Rate - Nonveterans, 18 years and over, White                         4.5\n",
       "2016  (Unadj) Unemployment Rate - Nonveterans, 18 years and over, Asian                         3.6\n",
       "      (Unadj) Unemployment Rate - Nonveterans, 18 years and over, Black or African American     8.4\n",
       "      (Unadj) Unemployment Rate - Nonveterans, 18 years and over, Hispanic or Latino            5.6\n",
       "      (Unadj) Unemployment Rate - Nonveterans, 18 years and over, White                         4.1\n",
       "Name: value, dtype: float64"
      ]
     },
     "execution_count": 7,
     "metadata": {},
     "output_type": "execute_result"
    }
   ],
   "source": [
    "data.groupby(['year','series_title']).value.mean()"
   ]
  },
  {
   "cell_type": "code",
   "execution_count": null,
   "metadata": {},
   "outputs": [],
   "source": []
  },
  {
   "cell_type": "code",
   "execution_count": null,
   "metadata": {},
   "outputs": [],
   "source": [
    "import numpy as np\n",
    "data.groupby(['year','series_title']).value.agg(['max','min','mean','count',np.st])"
   ]
  }
 ],
 "metadata": {
  "kernelspec": {
   "display_name": "Python 3",
   "language": "python",
   "name": "python3"
  },
  "language_info": {
   "codemirror_mode": {
    "name": "ipython",
    "version": 3
   },
   "file_extension": ".py",
   "mimetype": "text/x-python",
   "name": "python",
   "nbconvert_exporter": "python",
   "pygments_lexer": "ipython3",
   "version": "3.7.0"
  }
 },
 "nbformat": 4,
 "nbformat_minor": 2
}
